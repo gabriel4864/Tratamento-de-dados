{
 "cells": [
  {
   "cell_type": "code",
   "execution_count": 2,
   "metadata": {},
   "outputs": [
    {
     "name": "stdout",
     "output_type": "stream",
     "text": [
      "      Nome  Idade          Cidade  Salário\n",
      "0  Gabriel   28.0       São Paulo   5500.0\n",
      "1     João    NaN  Rio de Janeiro   3000.0\n",
      "2    Maria   35.0        Curitiba      NaN\n",
      "3     José   22.0             NaN   2000.0\n",
      "4      Ana   18.0    Porto Alegre   5000.0\n"
     ]
    }
   ],
   "source": [
    "# 1. Exercício: Carregar um arquivo e exibir as primeiras 5 linhas.\n",
    "import pandas as pd\n",
    "\n",
    "df = pd.read_excel(\"dados_ausentes.xlsx\")\n",
    "print(df.head(5))"
   ]
  },
  {
   "cell_type": "code",
   "execution_count": 3,
   "metadata": {},
   "outputs": [
    {
     "name": "stdout",
     "output_type": "stream",
     "text": [
      "    Nome  Idade  Cidade  Salário\n",
      "0  False  False   False    False\n",
      "1  False   True   False    False\n",
      "2  False  False   False     True\n",
      "3  False  False    True    False\n",
      "4  False  False   False    False\n",
      "5  False  False   False    False\n",
      "6  False  False   False    False\n",
      "7  False  False   False    False\n"
     ]
    }
   ],
   "source": [
    "# 2. Exercício: Verificar se há valores NaN nas colunas do DataFrame.\n",
    "print(df.isnull())"
   ]
  },
  {
   "cell_type": "code",
   "execution_count": 4,
   "metadata": {},
   "outputs": [
    {
     "name": "stdout",
     "output_type": "stream",
     "text": [
      "      Nome      Idade          Cidade      Salário\n",
      "0  Gabriel  28.000000       São Paulo  5500.000000\n",
      "1     João  30.142857  Rio de Janeiro  3000.000000\n",
      "2    Maria  35.000000        Curitiba  3735.714286\n",
      "3     José  22.000000               0  2000.000000\n",
      "4      Ana  18.000000    Porto Alegre  5000.000000\n",
      "5  Jessica  55.000000       são paulo  3150.000000\n",
      "6      Ana  18.000000    Porto Alegre  5000.000000\n",
      "7   Carlos  35.000000    porto alegre  2500.000000\n"
     ]
    },
    {
     "name": "stderr",
     "output_type": "stream",
     "text": [
      "C:\\Users\\42563220866\\AppData\\Local\\Temp\\ipykernel_17952\\3410196650.py:4: FutureWarning: A value is trying to be set on a copy of a DataFrame or Series through chained assignment using an inplace method.\n",
      "The behavior will change in pandas 3.0. This inplace method will never work because the intermediate object on which we are setting values always behaves as a copy.\n",
      "\n",
      "For example, when doing 'df[col].method(value, inplace=True)', try using 'df.method({col: value}, inplace=True)' or df[col] = df[col].method(value) instead, to perform the operation inplace on the original object.\n",
      "\n",
      "\n",
      "  df[\"Idade\"].fillna(df[\"Idade\"].mean(), inplace = True)\n",
      "C:\\Users\\42563220866\\AppData\\Local\\Temp\\ipykernel_17952\\3410196650.py:5: FutureWarning: A value is trying to be set on a copy of a DataFrame or Series through chained assignment using an inplace method.\n",
      "The behavior will change in pandas 3.0. This inplace method will never work because the intermediate object on which we are setting values always behaves as a copy.\n",
      "\n",
      "For example, when doing 'df[col].method(value, inplace=True)', try using 'df.method({col: value}, inplace=True)' or df[col] = df[col].method(value) instead, to perform the operation inplace on the original object.\n",
      "\n",
      "\n",
      "  df[\"Salário\"].fillna(df[\"Salário\"].mean(), inplace = True)\n",
      "C:\\Users\\42563220866\\AppData\\Local\\Temp\\ipykernel_17952\\3410196650.py:6: FutureWarning: A value is trying to be set on a copy of a DataFrame or Series through chained assignment using an inplace method.\n",
      "The behavior will change in pandas 3.0. This inplace method will never work because the intermediate object on which we are setting values always behaves as a copy.\n",
      "\n",
      "For example, when doing 'df[col].method(value, inplace=True)', try using 'df.method({col: value}, inplace=True)' or df[col] = df[col].method(value) instead, to perform the operation inplace on the original object.\n",
      "\n",
      "\n",
      "  df[\"Cidade\"].fillna(0, inplace = True)\n"
     ]
    }
   ],
   "source": [
    "# 3. Exercício: Substituir os valores NaN de uma coluna por 0.\n",
    "# 4. Exercício: Substituir os valores NaN de uma coluna por um valor específico\n",
    "# (por exemplo, a média).\n",
    "df[\"Idade\"].fillna(df[\"Idade\"].mean(), inplace = True)\n",
    "df[\"Salário\"].fillna(df[\"Salário\"].mean(), inplace = True)\n",
    "df[\"Cidade\"].fillna(0, inplace = True)\n",
    "print(df)"
   ]
  },
  {
   "cell_type": "code",
   "execution_count": 5,
   "metadata": {},
   "outputs": [
    {
     "name": "stdout",
     "output_type": "stream",
     "text": [
      "      Nome      Idade          Cidade      Salário\n",
      "0  Gabriel  28.000000       São Paulo  5500.000000\n",
      "1     João  30.142857  Rio de Janeiro  3000.000000\n",
      "2    Maria  35.000000        Curitiba  3735.714286\n",
      "3     José  22.000000               0  2000.000000\n",
      "4      Ana  18.000000    Porto Alegre  5000.000000\n",
      "5  Jessica  55.000000       são paulo  3150.000000\n",
      "6      Ana  18.000000    Porto Alegre  5000.000000\n",
      "7   Carlos  35.000000    porto alegre  2500.000000\n"
     ]
    }
   ],
   "source": [
    "# 5. Exercício: Remover todas as linhas que contêm valores NaN em qualquer coluna\n",
    "df_sem_nulos = df.dropna()\n",
    "print(df_sem_nulos)"
   ]
  },
  {
   "cell_type": "code",
   "execution_count": 6,
   "metadata": {},
   "outputs": [
    {
     "name": "stdout",
     "output_type": "stream",
     "text": [
      "      Nome      Idade          Cidade      Salário\n",
      "0  Gabriel  28.000000       São Paulo  5500.000000\n",
      "1     João  30.142857  Rio de Janeiro  3000.000000\n",
      "2    Maria  35.000000        Curitiba  3735.714286\n",
      "3     José  22.000000               0  2000.000000\n",
      "4      Ana  18.000000    Porto Alegre  5000.000000\n",
      "5  Jessica  55.000000       são paulo  3150.000000\n",
      "6      Ana  18.000000    Porto Alegre  5000.000000\n",
      "7   Carlos  35.000000    porto alegre  2500.000000\n"
     ]
    }
   ],
   "source": [
    "# 6. Exercício: Remover todas as linhas que contêm valores NaN em uma\n",
    "# coluna específica.\n",
    "\n",
    "df_sem_nulos_especifico = df.dropna(subset=['Idade'])\n",
    "print(df_sem_nulos_especifico)"
   ]
  },
  {
   "cell_type": "code",
   "execution_count": 7,
   "metadata": {},
   "outputs": [
    {
     "name": "stdout",
     "output_type": "stream",
     "text": [
      "      Nome      Idade          Cidade      Salário\n",
      "0  Gabriel  28.000000       São Paulo  5500.000000\n",
      "1     João  30.142857  Rio de Janeiro  3000.000000\n",
      "2    Maria  35.000000        Curitiba  3735.714286\n",
      "3     José  22.000000               0  2000.000000\n",
      "4      Ana  18.000000    Porto Alegre  5000.000000\n",
      "5  Jessica  55.000000       são paulo  3150.000000\n",
      "6      Ana  18.000000    Porto Alegre  5000.000000\n",
      "7   Carlos  35.000000    porto alegre  2500.000000\n"
     ]
    }
   ],
   "source": [
    "# 7. Exercício: Substituir valores NaN de uma coluna com a mediana dessa coluna.\n",
    "df[\"Salário\"] = df[\"Salário\"].fillna(df[\"Salário\"].median())\n",
    "print(df)"
   ]
  },
  {
   "cell_type": "code",
   "execution_count": 8,
   "metadata": {},
   "outputs": [
    {
     "name": "stdout",
     "output_type": "stream",
     "text": [
      "      Nome      Idade          Cidade      Salário\n",
      "0  Gabriel  28.000000       São Paulo  5500.000000\n",
      "1     João  30.142857  Rio de Janeiro  3000.000000\n",
      "2    Maria  35.000000        Curitiba  3735.714286\n",
      "3     José  22.000000               0  2000.000000\n",
      "4      Ana  18.000000    Porto Alegre  5000.000000\n",
      "5  Jessica  55.000000       são paulo  3150.000000\n",
      "6      Ana  18.000000    Porto Alegre  5000.000000\n",
      "7   Carlos  35.000000    porto alegre  2500.000000\n"
     ]
    }
   ],
   "source": [
    "# 9. Exercício: Preencher valores NaN com o valor anterior \n",
    "df['Idade'] = df['Idade'].ffill()\n",
    "print(df)"
   ]
  },
  {
   "cell_type": "code",
   "execution_count": 9,
   "metadata": {},
   "outputs": [
    {
     "name": "stdout",
     "output_type": "stream",
     "text": [
      "      Nome      Idade          Cidade      Salário\n",
      "0  Gabriel  28.000000       São Paulo  5500.000000\n",
      "1     João  30.142857  Rio de Janeiro  3000.000000\n",
      "2    Maria  35.000000        Curitiba  3735.714286\n",
      "3     José  22.000000               0  2000.000000\n",
      "4      Ana  18.000000    Porto Alegre  5000.000000\n",
      "5  Jessica  55.000000       são paulo  3150.000000\n",
      "6      Ana  18.000000    Porto Alegre  5000.000000\n",
      "7   Carlos  35.000000    porto alegre  2500.000000\n"
     ]
    }
   ],
   "source": [
    "# 10. Exercício: Preencher valores NaN com o valor posterior\n",
    "df['Cidade'] = df['Cidade'].bfill()\n",
    "print(df)"
   ]
  },
  {
   "cell_type": "code",
   "execution_count": 10,
   "metadata": {},
   "outputs": [
    {
     "name": "stdout",
     "output_type": "stream",
     "text": [
      "      Nome      Idade          Cidade      Salário\n",
      "0  Gabriel  28.000000       São Paulo  5500.000000\n",
      "1     João  30.142857  Rio De Janeiro  3000.000000\n",
      "2    Maria  35.000000        Curitiba  3735.714286\n",
      "3     José  22.000000             NaN  2000.000000\n",
      "4      Ana  18.000000    Porto Alegre  5000.000000\n",
      "5  Jessica  55.000000       São Paulo  3150.000000\n",
      "6      Ana  18.000000    Porto Alegre  5000.000000\n",
      "7   Carlos  35.000000    Porto Alegre  2500.000000\n"
     ]
    }
   ],
   "source": [
    "# 11. Exercício: Alterar todos os valores de uma coluna para maiúsculas.\n",
    "df[\"Cidade\"] = df[\"Cidade\"].str.title()\n",
    "print(df)"
   ]
  },
  {
   "cell_type": "code",
   "execution_count": 11,
   "metadata": {},
   "outputs": [
    {
     "name": "stdout",
     "output_type": "stream",
     "text": [
      "      Nome      Idade          Cidade      Salário\n",
      "0  Gabriel  28.000000       são paulo  5500.000000\n",
      "1     João  30.142857  rio de janeiro  3000.000000\n",
      "2    Maria  35.000000        curitiba  3735.714286\n",
      "3     José  22.000000             NaN  2000.000000\n",
      "4      Ana  18.000000    porto alegre  5000.000000\n",
      "5  Jessica  55.000000       são paulo  3150.000000\n",
      "6      Ana  18.000000    porto alegre  5000.000000\n",
      "7   Carlos  35.000000    porto alegre  2500.000000\n"
     ]
    }
   ],
   "source": [
    "# 12. Exercício: Alterar todos os valores de uma coluna para minúsculas.\n",
    "df[\"Cidade\"] = df[\"Cidade\"].str.casefold()\n",
    "print(df)"
   ]
  },
  {
   "cell_type": "code",
   "execution_count": 12,
   "metadata": {},
   "outputs": [
    {
     "name": "stdout",
     "output_type": "stream",
     "text": [
      "      Nome      Idade          Cidade      Salário\n",
      "0  Gabriel  28.000000       são paulo  5500.000000\n",
      "1     João  30.142857  rio de janeiro  3000.000000\n",
      "2    Maria  35.000000        curitiba  3735.714286\n",
      "3     José  22.000000             NaN  2000.000000\n",
      "4      Ana  18.000000    porto alegre  5000.000000\n",
      "5  Jessica  55.000000       são paulo  3150.000000\n",
      "6      Ana  18.000000    porto alegre  5000.000000\n",
      "7   Carlos  35.000000    porto alegre  2500.000000\n"
     ]
    }
   ],
   "source": [
    "# 13. Exercício: Remover espaços em branco à esquerda e à direita em uma coluna.\n",
    "df['Cidade'] = df['Cidade'].str.strip() \n",
    "print(df)"
   ]
  },
  {
   "cell_type": "code",
   "execution_count": 13,
   "metadata": {},
   "outputs": [
    {
     "name": "stdout",
     "output_type": "stream",
     "text": [
      "      Nome      Idade          Cidade      Salário\n",
      "0  Gabriel  28.000000       são paulo  5500.000000\n",
      "1     João  30.142857  rio de janeiro  3000.000000\n",
      "2    Maria  35.000000        curitiba  3735.714286\n",
      "3     José  22.000000             NaN  2000.000000\n",
      "4      Ana  18.000000    porto alegre  5000.000000\n",
      "5  Jessica  55.000000       são paulo  3150.000000\n",
      "6      Ana  18.000000    porto alegre  5000.000000\n",
      "7   Carlos  35.000000    porto alegre  2500.000000\n"
     ]
    }
   ],
   "source": [
    "#14. Exercício: Substituir valores de uma coluna com base em um dicionário de mapeamento (ex: \"São Paulo\" para \"SP\".)\n",
    "df['Cidade'].str.lower().replace({'são paulo': 'SP', 'rio de janeiro': 'RJ', 'porto alegre': 'PA'})\n",
    "print(df)"
   ]
  },
  {
   "cell_type": "code",
   "execution_count": 17,
   "metadata": {},
   "outputs": [
    {
     "name": "stdout",
     "output_type": "stream",
     "text": [
      "      Nome      Idade          Cidade      Salário\n",
      "0  Gabriel  28.000000       são paulo  5500.000000\n",
      "1     João  30.142857  rio de janeiro  3000.000000\n",
      "2    Maria  35.000000        curitiba  3735.714286\n",
      "3     José  22.000000             NaN  2000.000000\n",
      "4      Ana  18.000000    porto alegre  5000.000000\n",
      "5  Jessica  55.000000       são paulo  3150.000000\n",
      "7   Carlos  35.000000    porto alegre  2500.000000\n"
     ]
    }
   ],
   "source": [
    "# 15. Exercício: Identificar e remover valores duplicados de um DataFrame.\n",
    "df = df.drop_duplicates(subset=['Nome'])\n",
    "print(df)"
   ]
  }
 ],
 "metadata": {
  "kernelspec": {
   "display_name": "Python 3",
   "language": "python",
   "name": "python3"
  },
  "language_info": {
   "codemirror_mode": {
    "name": "ipython",
    "version": 3
   },
   "file_extension": ".py",
   "mimetype": "text/x-python",
   "name": "python",
   "nbconvert_exporter": "python",
   "pygments_lexer": "ipython3",
   "version": "3.12.1"
  }
 },
 "nbformat": 4,
 "nbformat_minor": 2
}
